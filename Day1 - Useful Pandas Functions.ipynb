{
 "cells": [
  {
   "cell_type": "markdown",
   "id": "cb5f38e9",
   "metadata": {},
   "source": [
    "| Function                    | Meaning  |\n",
    "| --------------------------- | ----------------------------- |\n",
    "| `df['col'].sum()`           | total          |\n",
    "| `df['col'].mean()`          | average  value             |\n",
    "| `df['col'].median()`        | median value            |\n",
    "| `df['col'].min()` / `max()` | minimum / maximum             |\n",
    "| `df['col'].std()`           | standard deviation (spread)   |\n",
    "| `df['col'].count()`         | non-null count                |\n",
    "| `df['col'].nunique()`       | unique value count       |\n",
    "\n",
    "| Function             | Kaay karto?                                |\n",
    "| -------------------- | ------------------------------------------ |\n",
    "| `idxmax()`           | Max **index** (like `argmax` in NumPy) |\n",
    "| `idxmin()`           | Min index                              |\n",
    "| `df['col'].argmax()` | Similar to `idxmax()` (but returns int)    |\n"
   ]
  },
  {
   "cell_type": "markdown",
   "id": "53a8d550",
   "metadata": {},
   "source": [
    "| Function         | Meaning                            |\n",
    "| ---------------- | -------------------------------------- |\n",
    "| `value_counts()` | count of each value in the dataframe |\n",
    "| `unique()`       | unique values                    |\n",
    "| `isin([..])`     | check if value belongs to a set        |\n"
   ]
  },
  {
   "cell_type": "markdown",
   "id": "f070582c",
   "metadata": {},
   "source": [
    "| Function                 | Meaning              |\n",
    "| ------------------------ | ------------------------- |\n",
    "| `isnull()` / `notnull()` | missing values   |\n",
    "| `dropna()`               | missing rows  |\n",
    "| `fillna(value)`          | replace missing values  |\n"
   ]
  },
  {
   "cell_type": "markdown",
   "id": "defadcfc",
   "metadata": {},
   "source": [
    "| Function              | Meaning       |\n",
    "| --------------------- | ------------------- |\n",
    "| `rename(columns={})`  | column name change  |\n",
    "| `drop('col', axis=1)` | remove column |\n",
    "| `astype()`            | type change         |\n"
   ]
  },
  {
   "cell_type": "code",
   "execution_count": 1,
   "id": "376adb48",
   "metadata": {},
   "outputs": [],
   "source": [
    "import pandas as pd"
   ]
  },
  {
   "cell_type": "code",
   "execution_count": 3,
   "id": "940b3ca8",
   "metadata": {},
   "outputs": [],
   "source": [
    "df=pd.DataFrame({'Name':['Alice', 'Bob', 'Charlie', 'Bob', 'Alice', 'David'],\n",
    "                 'Age':[25, 30, 35, 30, 25, 40],\n",
    "                 'Score':[88, 92, 85, 92, 88, 95]})"
   ]
  },
  {
   "cell_type": "code",
   "execution_count": 4,
   "id": "5fafa752",
   "metadata": {},
   "outputs": [
    {
     "data": {
      "text/html": [
       "<div>\n",
       "<style scoped>\n",
       "    .dataframe tbody tr th:only-of-type {\n",
       "        vertical-align: middle;\n",
       "    }\n",
       "\n",
       "    .dataframe tbody tr th {\n",
       "        vertical-align: top;\n",
       "    }\n",
       "\n",
       "    .dataframe thead th {\n",
       "        text-align: right;\n",
       "    }\n",
       "</style>\n",
       "<table border=\"1\" class=\"dataframe\">\n",
       "  <thead>\n",
       "    <tr style=\"text-align: right;\">\n",
       "      <th></th>\n",
       "      <th>Name</th>\n",
       "      <th>Age</th>\n",
       "      <th>Score</th>\n",
       "    </tr>\n",
       "  </thead>\n",
       "  <tbody>\n",
       "    <tr>\n",
       "      <th>0</th>\n",
       "      <td>Alice</td>\n",
       "      <td>25</td>\n",
       "      <td>88</td>\n",
       "    </tr>\n",
       "    <tr>\n",
       "      <th>1</th>\n",
       "      <td>Bob</td>\n",
       "      <td>30</td>\n",
       "      <td>92</td>\n",
       "    </tr>\n",
       "    <tr>\n",
       "      <th>2</th>\n",
       "      <td>Charlie</td>\n",
       "      <td>35</td>\n",
       "      <td>85</td>\n",
       "    </tr>\n",
       "    <tr>\n",
       "      <th>3</th>\n",
       "      <td>Bob</td>\n",
       "      <td>30</td>\n",
       "      <td>92</td>\n",
       "    </tr>\n",
       "    <tr>\n",
       "      <th>4</th>\n",
       "      <td>Alice</td>\n",
       "      <td>25</td>\n",
       "      <td>88</td>\n",
       "    </tr>\n",
       "  </tbody>\n",
       "</table>\n",
       "</div>"
      ],
      "text/plain": [
       "      Name  Age  Score\n",
       "0    Alice   25     88\n",
       "1      Bob   30     92\n",
       "2  Charlie   35     85\n",
       "3      Bob   30     92\n",
       "4    Alice   25     88"
      ]
     },
     "execution_count": 4,
     "metadata": {},
     "output_type": "execute_result"
    }
   ],
   "source": [
    "df.head()"
   ]
  },
  {
   "cell_type": "markdown",
   "id": "722617c9",
   "metadata": {},
   "source": [
    "# How many unique names are there in the Name column?"
   ]
  },
  {
   "cell_type": "code",
   "execution_count": 7,
   "id": "bdea3508",
   "metadata": {},
   "outputs": [
    {
     "data": {
      "text/plain": [
       "4"
      ]
     },
     "execution_count": 7,
     "metadata": {},
     "output_type": "execute_result"
    }
   ],
   "source": [
    "df['Name'].nunique()  # Tells the count of unique names in the dataframe"
   ]
  },
  {
   "cell_type": "markdown",
   "id": "51b64d8b",
   "metadata": {},
   "source": [
    "# What is the most frequent name and how many times does it occur?"
   ]
  },
  {
   "cell_type": "code",
   "execution_count": 18,
   "id": "5613bb14",
   "metadata": {},
   "outputs": [
    {
     "name": "stdout",
     "output_type": "stream",
     "text": [
      "Alice\n"
     ]
    },
    {
     "data": {
      "text/plain": [
       "2"
      ]
     },
     "execution_count": 18,
     "metadata": {},
     "output_type": "execute_result"
    }
   ],
   "source": [
    "frequent_name=df['Name'].value_counts().idxmax() # To print the first occurance of max value\n",
    "# Both Alice and Bob have equal count but idxmax() will return the value of the index which comes first (depending on the order)\n",
    "# Alice comes first and then Bob . Alice is returned\n",
    "print(frequent_name)\n",
    "df['Name'].value_counts().max() # To print how many times it occured"
   ]
  },
  {
   "cell_type": "markdown",
   "id": "e327b9e3",
   "metadata": {},
   "source": [
    "# What is the average Score for each Name? "
   ]
  },
  {
   "cell_type": "code",
   "execution_count": 26,
   "id": "3b7a3084",
   "metadata": {},
   "outputs": [
    {
     "data": {
      "text/html": [
       "<div>\n",
       "<style scoped>\n",
       "    .dataframe tbody tr th:only-of-type {\n",
       "        vertical-align: middle;\n",
       "    }\n",
       "\n",
       "    .dataframe tbody tr th {\n",
       "        vertical-align: top;\n",
       "    }\n",
       "\n",
       "    .dataframe thead th {\n",
       "        text-align: right;\n",
       "    }\n",
       "</style>\n",
       "<table border=\"1\" class=\"dataframe\">\n",
       "  <thead>\n",
       "    <tr style=\"text-align: right;\">\n",
       "      <th></th>\n",
       "      <th>Score</th>\n",
       "    </tr>\n",
       "    <tr>\n",
       "      <th>Name</th>\n",
       "      <th></th>\n",
       "    </tr>\n",
       "  </thead>\n",
       "  <tbody>\n",
       "    <tr>\n",
       "      <th>Alice</th>\n",
       "      <td>88.0</td>\n",
       "    </tr>\n",
       "    <tr>\n",
       "      <th>Bob</th>\n",
       "      <td>92.0</td>\n",
       "    </tr>\n",
       "    <tr>\n",
       "      <th>Charlie</th>\n",
       "      <td>85.0</td>\n",
       "    </tr>\n",
       "    <tr>\n",
       "      <th>David</th>\n",
       "      <td>95.0</td>\n",
       "    </tr>\n",
       "  </tbody>\n",
       "</table>\n",
       "</div>"
      ],
      "text/plain": [
       "         Score\n",
       "Name          \n",
       "Alice     88.0\n",
       "Bob       92.0\n",
       "Charlie   85.0\n",
       "David     95.0"
      ]
     },
     "execution_count": 26,
     "metadata": {},
     "output_type": "execute_result"
    }
   ],
   "source": [
    "df.groupby('Name').agg({'Score':'mean'})"
   ]
  },
  {
   "cell_type": "markdown",
   "id": "d28f60e4",
   "metadata": {},
   "source": [
    "# Which name has the highest average Score?"
   ]
  },
  {
   "cell_type": "code",
   "execution_count": 29,
   "id": "b0fd76c0",
   "metadata": {},
   "outputs": [
    {
     "data": {
      "text/plain": [
       "Score    David\n",
       "dtype: object"
      ]
     },
     "execution_count": 29,
     "metadata": {},
     "output_type": "execute_result"
    }
   ],
   "source": [
    "df.groupby('Name').agg({'Score':'mean'}).idxmax()"
   ]
  },
  {
   "cell_type": "markdown",
   "id": "dfcc9eac",
   "metadata": {},
   "source": [
    "# Show all rows where Name is either 'Alice' or 'Bob'"
   ]
  },
  {
   "cell_type": "code",
   "execution_count": 31,
   "id": "7815f6c1",
   "metadata": {},
   "outputs": [
    {
     "data": {
      "text/html": [
       "<div>\n",
       "<style scoped>\n",
       "    .dataframe tbody tr th:only-of-type {\n",
       "        vertical-align: middle;\n",
       "    }\n",
       "\n",
       "    .dataframe tbody tr th {\n",
       "        vertical-align: top;\n",
       "    }\n",
       "\n",
       "    .dataframe thead th {\n",
       "        text-align: right;\n",
       "    }\n",
       "</style>\n",
       "<table border=\"1\" class=\"dataframe\">\n",
       "  <thead>\n",
       "    <tr style=\"text-align: right;\">\n",
       "      <th></th>\n",
       "      <th>Name</th>\n",
       "      <th>Age</th>\n",
       "      <th>Score</th>\n",
       "    </tr>\n",
       "  </thead>\n",
       "  <tbody>\n",
       "    <tr>\n",
       "      <th>0</th>\n",
       "      <td>Alice</td>\n",
       "      <td>25</td>\n",
       "      <td>88</td>\n",
       "    </tr>\n",
       "    <tr>\n",
       "      <th>1</th>\n",
       "      <td>Bob</td>\n",
       "      <td>30</td>\n",
       "      <td>92</td>\n",
       "    </tr>\n",
       "    <tr>\n",
       "      <th>3</th>\n",
       "      <td>Bob</td>\n",
       "      <td>30</td>\n",
       "      <td>92</td>\n",
       "    </tr>\n",
       "    <tr>\n",
       "      <th>4</th>\n",
       "      <td>Alice</td>\n",
       "      <td>25</td>\n",
       "      <td>88</td>\n",
       "    </tr>\n",
       "  </tbody>\n",
       "</table>\n",
       "</div>"
      ],
      "text/plain": [
       "    Name  Age  Score\n",
       "0  Alice   25     88\n",
       "1    Bob   30     92\n",
       "3    Bob   30     92\n",
       "4  Alice   25     88"
      ]
     },
     "execution_count": 31,
     "metadata": {},
     "output_type": "execute_result"
    }
   ],
   "source": [
    "df[df['Name'].isin(['Alice','Bob'])]"
   ]
  },
  {
   "cell_type": "markdown",
   "id": "40919d9e",
   "metadata": {},
   "source": [
    "# Find the Name(s) who have the maximum Score"
   ]
  },
  {
   "cell_type": "code",
   "execution_count": 37,
   "id": "1a3d4774",
   "metadata": {},
   "outputs": [
    {
     "data": {
      "text/html": [
       "<div>\n",
       "<style scoped>\n",
       "    .dataframe tbody tr th:only-of-type {\n",
       "        vertical-align: middle;\n",
       "    }\n",
       "\n",
       "    .dataframe tbody tr th {\n",
       "        vertical-align: top;\n",
       "    }\n",
       "\n",
       "    .dataframe thead th {\n",
       "        text-align: right;\n",
       "    }\n",
       "</style>\n",
       "<table border=\"1\" class=\"dataframe\">\n",
       "  <thead>\n",
       "    <tr style=\"text-align: right;\">\n",
       "      <th></th>\n",
       "      <th>Name</th>\n",
       "      <th>Age</th>\n",
       "      <th>Score</th>\n",
       "    </tr>\n",
       "  </thead>\n",
       "  <tbody>\n",
       "    <tr>\n",
       "      <th>5</th>\n",
       "      <td>David</td>\n",
       "      <td>40</td>\n",
       "      <td>95</td>\n",
       "    </tr>\n",
       "  </tbody>\n",
       "</table>\n",
       "</div>"
      ],
      "text/plain": [
       "    Name  Age  Score\n",
       "5  David   40     95"
      ]
     },
     "execution_count": 37,
     "metadata": {},
     "output_type": "execute_result"
    }
   ],
   "source": [
    "df[df['Score']==df['Score'].max()]  # Will find max score for everyone"
   ]
  },
  {
   "cell_type": "code",
   "execution_count": 34,
   "id": "74b42c66",
   "metadata": {},
   "outputs": [
    {
     "data": {
      "text/plain": [
       "Score    Bob\n",
       "dtype: object"
      ]
     },
     "execution_count": 34,
     "metadata": {},
     "output_type": "execute_result"
    }
   ],
   "source": [
    "df.groupby('Name').agg({'Score':'sum'}).idxmax() # will return names who have maximum Score"
   ]
  },
  {
   "cell_type": "markdown",
   "id": "7aa7a528",
   "metadata": {},
   "source": [
    "# Get all the distinct scores from the Score column"
   ]
  },
  {
   "cell_type": "code",
   "execution_count": 35,
   "id": "a74652e7",
   "metadata": {},
   "outputs": [
    {
     "data": {
      "text/plain": [
       "array([88, 92, 85, 95], dtype=int64)"
      ]
     },
     "execution_count": 35,
     "metadata": {},
     "output_type": "execute_result"
    }
   ],
   "source": [
    "df['Score'].unique()"
   ]
  }
 ],
 "metadata": {
  "kernelspec": {
   "display_name": "Python 3 (ipykernel)",
   "language": "python",
   "name": "python3"
  },
  "language_info": {
   "codemirror_mode": {
    "name": "ipython",
    "version": 3
   },
   "file_extension": ".py",
   "mimetype": "text/x-python",
   "name": "python",
   "nbconvert_exporter": "python",
   "pygments_lexer": "ipython3",
   "version": "3.9.13"
  }
 },
 "nbformat": 4,
 "nbformat_minor": 5
}
