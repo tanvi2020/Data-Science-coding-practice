{
 "cells": [
  {
   "cell_type": "code",
   "execution_count": 1,
   "id": "6846e20d",
   "metadata": {},
   "outputs": [],
   "source": [
    "import numpy as np"
   ]
  },
  {
   "cell_type": "code",
   "execution_count": 8,
   "id": "7afa083f",
   "metadata": {},
   "outputs": [
    {
     "name": "stdout",
     "output_type": "stream",
     "text": [
      "[10 20 30 40 50]\n",
      "[[1. 1. 1.]\n",
      " [1. 1. 1.]\n",
      " [1. 1. 1.]]\n",
      "[ 5 10 15 20 25 30 35 40]\n",
      "[1.         1.66666667 2.33333333 3.        ]\n",
      "(3, 3)\n",
      "8\n",
      "float64\n"
     ]
    }
   ],
   "source": [
    "# Create a 1D NumPy array from list [10, 20, 30, 40, 50]\n",
    "arr=np.array([10,20,30,40,50])\n",
    "print(arr)\n",
    "\n",
    "\n",
    "# Create a 3x3 array of ones\n",
    "o=inp.ones([3,3])\n",
    "print(o)\n",
    "\n",
    "# Use arange to create an array from 5 to 45 with step of 5 np.arange(start,stop,step)\n",
    "a=np.arange(5,45,5) # will generate integer values between 5 to 45 with a step of 5\n",
    "print(a)\n",
    "\n",
    "# Use linspace to divide the number 1 to 3 into 4 equal parts np.linspace(start,stop,n)\n",
    "b=np.linspace(1,3,4) # will generate 4 float values between 1 to 3\n",
    "print(b)\n",
    "\n",
    "# Print shape, size, and type of any array\n",
    "print(o.shape)\n",
    "print(a.size)\n",
    "print(b.dtype)"
   ]
  },
  {
   "cell_type": "code",
   "execution_count": 10,
   "id": "f091efaf",
   "metadata": {},
   "outputs": [
    {
     "name": "stdout",
     "output_type": "stream",
     "text": [
      "[1 2 3 4 5 6 7 8 9]\n",
      "[[1 2 3]\n",
      " [4 5 6]\n",
      " [7 8 9]]\n",
      "(3, 3)\n",
      "2\n",
      "int32\n"
     ]
    }
   ],
   "source": [
    "# Create a 2D NumPy array with values from 1 to 9\n",
    "arr=np.arange(1,10)\n",
    "print(arr)\n",
    "\n",
    "# Reshape it into a 3x3 matrix\n",
    "r=arr.reshape([3,3])\n",
    "print(r)\n",
    "\n",
    "# Print its shape, dimension (ndim), and data type (dtype)\n",
    "print(r.shape)\n",
    "print(r.ndim)\n",
    "print(r.dtype)"
   ]
  },
  {
   "cell_type": "code",
   "execution_count": 2,
   "id": "023b57e4",
   "metadata": {},
   "outputs": [
    {
     "name": "stdout",
     "output_type": "stream",
     "text": [
      "[50 60 70 80]\n",
      "(4,)\n",
      "1\n"
     ]
    }
   ],
   "source": [
    "# Create a NumPy array of numbers from 50 to 90 with a step size of 10. Print its shape and number of dimensions.\n",
    "import numpy as np\n",
    "arr=np.arange(50,90,10)\n",
    "print(arr)\n",
    "print(arr.shape)\n",
    "print(arr.ndim)"
   ]
  },
  {
   "cell_type": "code",
   "execution_count": 11,
   "id": "ba7b4a9a",
   "metadata": {},
   "outputs": [
    {
     "name": "stdout",
     "output_type": "stream",
     "text": [
      "[[0 0 0 0]\n",
      " [0 0 0 0]\n",
      " [0 0 0 0]\n",
      " [0 0 0 0]]\n",
      "int32\n"
     ]
    }
   ],
   "source": [
    "# Create a 4x4 array of zeros, then change its data type to int.\n",
    "\n",
    "zeros=np.zeros([4,4])\n",
    "integer=zeros.astype(int)\n",
    "print(integer)\n",
    "print(integer.dtype)"
   ]
  },
  {
   "cell_type": "code",
   "execution_count": 12,
   "id": "3bbf7e1d",
   "metadata": {},
   "outputs": [
    {
     "name": "stdout",
     "output_type": "stream",
     "text": [
      "[10. 12. 14. 16. 18. 20.]\n",
      "float64\n"
     ]
    }
   ],
   "source": [
    "# Use linspace() to generate 6 equally spaced numbers between 10 and 20. Print the array and its data type.\n",
    "a=np.linspace(10,20,6)\n",
    "print(a)\n",
    "print(a.dtype)"
   ]
  },
  {
   "cell_type": "code",
   "execution_count": 21,
   "id": "0707ce44",
   "metadata": {
    "scrolled": true
   },
   "outputs": [
    {
     "name": "stdout",
     "output_type": "stream",
     "text": [
      "[ 1  2  3  4  5  6  7  8  9 10 11 12]\n",
      "[[ 1  2  3  4]\n",
      " [ 5  6  7  8]\n",
      " [ 9 10 11 12]]\n",
      "[[ 1  2  3]\n",
      " [ 4  5  6]\n",
      " [ 7  8  9]\n",
      " [10 11 12]]\n",
      "[ 1  2  3  4  5  6  7  8  9 10 11 12]\n"
     ]
    }
   ],
   "source": [
    "# Create a 1D array from 1 to 12, then reshape it into:\n",
    "# a 2D 3x4 array\n",
    "# a 2D 4x3 array\n",
    "# a 1D array again\n",
    "\n",
    "arr1=np.arange(1,13,1)\n",
    "print(arr1)\n",
    "r1=arr1.reshape([3,4])\n",
    "print(r1)\n",
    "r2=arr1.reshape([4,3])\n",
    "print(r2)\n",
    "print(r2.flatten())"
   ]
  },
  {
   "cell_type": "code",
   "execution_count": 22,
   "id": "73a56a4f",
   "metadata": {},
   "outputs": [
    {
     "name": "stdout",
     "output_type": "stream",
     "text": [
      "[[3.14 3.14 3.14 3.14 3.14]\n",
      " [3.14 3.14 3.14 3.14 3.14]]\n",
      "(2, 5)\n",
      "float64\n",
      "10\n"
     ]
    }
   ],
   "source": [
    "# What will be the shape, size, and dtype of this array:\n",
    "x=np.ones((2, 5)) * 3.14\n",
    "print(x)\n",
    "print(x.shape)\n",
    "print(x.dtype)\n",
    "print(x.size)\n",
    "# It will be 2,5 only just all the one's will get multipled by 3.14"
   ]
  },
  {
   "cell_type": "markdown",
   "id": "589f36c0",
   "metadata": {},
   "source": [
    "# Indexing and Slicing "
   ]
  },
  {
   "cell_type": "markdown",
   "id": "dfb8db27",
   "metadata": {},
   "source": [
    "Goal: Learn how to access individual elements, rows, columns, and sub-arrays from 2D arrays"
   ]
  },
  {
   "cell_type": "code",
   "execution_count": 24,
   "id": "4f140231",
   "metadata": {},
   "outputs": [
    {
     "name": "stdout",
     "output_type": "stream",
     "text": [
      "[[1 2 3]\n",
      " [4 5 6]\n",
      " [7 8 9]]\n"
     ]
    }
   ],
   "source": [
    "z=np.arange(1,10).reshape([3,3])\n",
    "print(arr)"
   ]
  },
  {
   "cell_type": "markdown",
   "id": "5370f16b",
   "metadata": {},
   "source": [
    "## Indexing"
   ]
  },
  {
   "cell_type": "code",
   "execution_count": 25,
   "id": "9741472d",
   "metadata": {},
   "outputs": [
    {
     "data": {
      "text/plain": [
       "1"
      ]
     },
     "execution_count": 25,
     "metadata": {},
     "output_type": "execute_result"
    }
   ],
   "source": [
    "z[0,0] # Row 1 col 1 element"
   ]
  },
  {
   "cell_type": "code",
   "execution_count": 28,
   "id": "b13bba44",
   "metadata": {},
   "outputs": [
    {
     "data": {
      "text/plain": [
       "6"
      ]
     },
     "execution_count": 28,
     "metadata": {},
     "output_type": "execute_result"
    }
   ],
   "source": [
    "z[1,2] # Row 1 col 2 element"
   ]
  },
  {
   "cell_type": "code",
   "execution_count": 29,
   "id": "9b39a07e",
   "metadata": {},
   "outputs": [
    {
     "data": {
      "text/plain": [
       "8"
      ]
     },
     "execution_count": 29,
     "metadata": {},
     "output_type": "execute_result"
    }
   ],
   "source": [
    "z[2,1] # Row 2 col 1 element"
   ]
  },
  {
   "cell_type": "markdown",
   "id": "64cf90f5",
   "metadata": {},
   "source": [
    "## Slicing"
   ]
  },
  {
   "cell_type": "code",
   "execution_count": 30,
   "id": "ed17e42c",
   "metadata": {},
   "outputs": [
    {
     "data": {
      "text/plain": [
       "array([1, 2, 3])"
      ]
     },
     "execution_count": 30,
     "metadata": {},
     "output_type": "execute_result"
    }
   ],
   "source": [
    "z[0, :]     # → first row  all cols → [1 2 3]"
   ]
  },
  {
   "cell_type": "code",
   "execution_count": 31,
   "id": "6783acfd",
   "metadata": {},
   "outputs": [
    {
     "data": {
      "text/plain": [
       "array([2, 5, 8])"
      ]
     },
     "execution_count": 31,
     "metadata": {},
     "output_type": "execute_result"
    }
   ],
   "source": [
    "z[:, 1]     # → second column → [2 5 8]\n"
   ]
  },
  {
   "cell_type": "code",
   "execution_count": 32,
   "id": "6a9f3778",
   "metadata": {},
   "outputs": [
    {
     "data": {
      "text/plain": [
       "array([[5, 6],\n",
       "       [8, 9]])"
      ]
     },
     "execution_count": 32,
     "metadata": {},
     "output_type": "execute_result"
    }
   ],
   "source": [
    "z[1:3, 1:]  # → sub-array: rows 1-2, cols 1-2 → [[5 6], [8 9]]\n"
   ]
  },
  {
   "cell_type": "code",
   "execution_count": 33,
   "id": "816163f6",
   "metadata": {},
   "outputs": [
    {
     "data": {
      "text/plain": [
       "array([[1, 2],\n",
       "       [4, 5]])"
      ]
     },
     "execution_count": 33,
     "metadata": {},
     "output_type": "execute_result"
    }
   ],
   "source": [
    "z[:2, :2]   # → top-left 2x2 → [[1 2], [4 5]]"
   ]
  },
  {
   "cell_type": "code",
   "execution_count": 35,
   "id": "2e75fdcc",
   "metadata": {},
   "outputs": [
    {
     "name": "stdout",
     "output_type": "stream",
     "text": [
      "[[1 2 3]\n",
      " [4 5 6]\n",
      " [7 8 9]]\n"
     ]
    }
   ],
   "source": [
    "a=np.arange(1,10).reshape([3,3])\n",
    "print(a)"
   ]
  },
  {
   "cell_type": "markdown",
   "id": "21bf3ce6",
   "metadata": {},
   "source": [
    "Write code to:\n",
    "\n",
    "Print the last row\n",
    "\n",
    "Print the middle column\n",
    "\n",
    "Print the bottom-right element\n",
    "\n",
    "Print the top-left 2x2 matrix\n",
    "\n",
    "Extract the diagonal elements manually (no np.diag() yet)"
   ]
  },
  {
   "cell_type": "code",
   "execution_count": 36,
   "id": "62841166",
   "metadata": {},
   "outputs": [
    {
     "data": {
      "text/plain": [
       "array([7, 8, 9])"
      ]
     },
     "execution_count": 36,
     "metadata": {},
     "output_type": "execute_result"
    }
   ],
   "source": [
    "# Print the last row\n",
    "a[2,:] # Row 2 all cols"
   ]
  },
  {
   "cell_type": "code",
   "execution_count": 37,
   "id": "7f652a2f",
   "metadata": {},
   "outputs": [
    {
     "data": {
      "text/plain": [
       "array([2, 5, 8])"
      ]
     },
     "execution_count": 37,
     "metadata": {},
     "output_type": "execute_result"
    }
   ],
   "source": [
    "# Print the middle column\n",
    "a[:,1] # all rows col 1"
   ]
  },
  {
   "cell_type": "code",
   "execution_count": 40,
   "id": "801a34cb",
   "metadata": {},
   "outputs": [
    {
     "data": {
      "text/plain": [
       "9"
      ]
     },
     "execution_count": 40,
     "metadata": {},
     "output_type": "execute_result"
    }
   ],
   "source": [
    "# Print the bottom-right element\n",
    "a[2,2]"
   ]
  },
  {
   "cell_type": "code",
   "execution_count": 39,
   "id": "3e407fca",
   "metadata": {},
   "outputs": [
    {
     "data": {
      "text/plain": [
       "array([[1, 2],\n",
       "       [4, 5]])"
      ]
     },
     "execution_count": 39,
     "metadata": {},
     "output_type": "execute_result"
    }
   ],
   "source": [
    "#Print the top-left 2x2 matrix\n",
    "a[:2,:2]"
   ]
  },
  {
   "cell_type": "code",
   "execution_count": 42,
   "id": "8b44d483",
   "metadata": {},
   "outputs": [
    {
     "name": "stdout",
     "output_type": "stream",
     "text": [
      "[1, 5, 9]\n"
     ]
    }
   ],
   "source": [
    "# Extract the diagonal elements manually (no np.diag() yet)\n",
    "# Remember for a square matrix row number == col number like row 0 col 0 , row 1 col 1\n",
    "diagonal=[a[i,i] for i in range(3)]\n",
    "print(diagonal)"
   ]
  },
  {
   "cell_type": "code",
   "execution_count": 44,
   "id": "2177be90",
   "metadata": {},
   "outputs": [
    {
     "name": "stdout",
     "output_type": "stream",
     "text": [
      "[3, 5, 7]\n"
     ]
    }
   ],
   "source": [
    "diagonal2=[a[i,2-i] for i in range(3)] # to print 3*3 matrix anti diagonal elements\n",
    "# a[0, 2] → 3\n",
    "# a[1, 1] → 5\n",
    "# a[2, 0] → 7\n",
    "print(diagonal2)"
   ]
  },
  {
   "cell_type": "markdown",
   "id": "db0e75e6",
   "metadata": {},
   "source": [
    "# Fancy Indexing and Masking"
   ]
  },
  {
   "cell_type": "code",
   "execution_count": 45,
   "id": "5e2e686b",
   "metadata": {},
   "outputs": [],
   "source": [
    "import numpy as np\n"
   ]
  },
  {
   "cell_type": "code",
   "execution_count": 51,
   "id": "a2db21d4",
   "metadata": {},
   "outputs": [
    {
     "name": "stdout",
     "output_type": "stream",
     "text": [
      "[10 25 30]\n",
      "[15 20 25 30]\n",
      "[1 7 5 3 9]\n"
     ]
    }
   ],
   "source": [
    "#From array [5, 10, 15, 20, 25, 30], use fancy indexing to print [10, 25, 30]\n",
    "arr=np.array([5, 10, 15, 20, 25, 30])\n",
    "print(arr[[1,4,5]])\n",
    "\n",
    "#From same array, print all values greater than or equal to 15\n",
    "print(arr[arr>=15])\n",
    "\n",
    "#Given 2D array: Print all odd numbers using boolean masking\n",
    "b=np.array([[1, 4, 7],\n",
    "          [2, 5, 8],\n",
    "          [3, 6, 9]])\n",
    "\n",
    "print(b[b%2==1])"
   ]
  },
  {
   "cell_type": "code",
   "execution_count": null,
   "id": "d1a40a68",
   "metadata": {},
   "outputs": [],
   "source": []
  },
  {
   "cell_type": "code",
   "execution_count": null,
   "id": "51547472",
   "metadata": {},
   "outputs": [],
   "source": []
  },
  {
   "cell_type": "code",
   "execution_count": null,
   "id": "9d90542b",
   "metadata": {},
   "outputs": [],
   "source": []
  },
  {
   "cell_type": "code",
   "execution_count": null,
   "id": "5c6edece",
   "metadata": {},
   "outputs": [],
   "source": []
  },
  {
   "cell_type": "code",
   "execution_count": null,
   "id": "bd25785a",
   "metadata": {},
   "outputs": [],
   "source": []
  },
  {
   "cell_type": "code",
   "execution_count": null,
   "id": "cf75b28e",
   "metadata": {},
   "outputs": [],
   "source": []
  },
  {
   "cell_type": "code",
   "execution_count": null,
   "id": "4c47c7fa",
   "metadata": {},
   "outputs": [],
   "source": []
  }
 ],
 "metadata": {
  "kernelspec": {
   "display_name": "Python 3 (ipykernel)",
   "language": "python",
   "name": "python3"
  },
  "language_info": {
   "codemirror_mode": {
    "name": "ipython",
    "version": 3
   },
   "file_extension": ".py",
   "mimetype": "text/x-python",
   "name": "python",
   "nbconvert_exporter": "python",
   "pygments_lexer": "ipython3",
   "version": "3.9.13"
  }
 },
 "nbformat": 4,
 "nbformat_minor": 5
}
